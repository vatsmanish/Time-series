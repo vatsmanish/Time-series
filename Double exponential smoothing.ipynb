{
 "cells": [
  {
   "cell_type": "code",
   "execution_count": 7,
   "metadata": {},
   "outputs": [],
   "source": [
    "import os\n",
    "import pandas as pd\n",
    "import matplotlib.pyplot as plt\n",
    "import seaborn as sns\n",
    "# %inline matplotlib\n",
    "os.chdir(r\"C:\\Users\\MANDY\\Desktop\\dataset\")\n",
    "data = pd.read_csv(\"train_csv (1).csv\",index_col=['time'], parse_dates=['time'])\n",
    "data.drop('id', axis = 1, inplace= True)\n",
    "data.index = pd.to_datetime(data.index)\n",
    "df1 = pd.read_csv(\"test_csv (1).csv\",index_col=['time'], parse_dates=['time'])\n",
    "df1.index = pd.to_datetime(df1.index)"
   ]
  },
  {
   "cell_type": "code",
   "execution_count": 8,
   "metadata": {},
   "outputs": [
    {
     "name": "stderr",
     "output_type": "stream",
     "text": [
      "C:\\Users\\MANDY\\Anaconda3\\lib\\site-packages\\statsmodels\\tsa\\base\\tsa_model.py:165: ValueWarning: No frequency information was provided, so inferred frequency 10S will be used.\n",
      "  % freq, ValueWarning)\n"
     ]
    }
   ],
   "source": [
    "# double or triple exponential smoothing\n",
    "from statsmodels.tsa.holtwinters import ExponentialSmoothing\n",
    "# create class\n",
    "model = ExponentialSmoothing(data)\n",
    "# fit model\n",
    "model_fit = model.fit()"
   ]
  },
  {
   "cell_type": "code",
   "execution_count": 9,
   "metadata": {},
   "outputs": [
    {
     "data": {
      "text/plain": [
       "2019-03-19 00:00:00    151.574004\n",
       "2019-03-19 00:00:10    172.493999\n",
       "2019-03-19 00:00:20    144.753381\n",
       "2019-03-19 00:00:30    131.623689\n",
       "2019-03-19 00:00:40    162.890436\n",
       "                          ...    \n",
       "2019-03-19 00:12:30    198.293401\n",
       "2019-03-19 00:12:40    264.016854\n",
       "2019-03-19 00:12:50    298.588057\n",
       "2019-03-19 00:13:00    257.502077\n",
       "2019-03-19 00:13:10    215.800087\n",
       "Freq: 10S, Length: 80, dtype: float64"
      ]
     },
     "execution_count": 9,
     "metadata": {},
     "output_type": "execute_result"
    }
   ],
   "source": [
    "# make prediction\n",
    "yhat = model_fit.predict(start = '2019-03-19 00:00:00',end='2019-03-19 00:13:10')\n",
    "yhat"
   ]
  },
  {
   "cell_type": "code",
   "execution_count": 12,
   "metadata": {},
   "outputs": [
    {
     "data": {
      "text/plain": [
       "2019-03-19 00:00:00    151.574004\n",
       "2019-03-19 00:00:10    172.493999\n",
       "2019-03-19 00:00:20    144.753381\n",
       "2019-03-19 00:00:30    131.623689\n",
       "2019-03-19 00:00:40    162.890436\n",
       "                          ...    \n",
       "2019-03-19 00:19:10    192.874175\n",
       "2019-03-19 00:19:20    192.874175\n",
       "2019-03-19 00:19:30    192.874175\n",
       "2019-03-19 00:19:40    192.874175\n",
       "2019-03-19 00:19:50    192.874175\n",
       "Freq: 10S, Length: 120, dtype: float64"
      ]
     },
     "execution_count": 12,
     "metadata": {},
     "output_type": "execute_result"
    }
   ],
   "source": [
    "yhat1 = model_fit.predict(start = '2019-03-19 00:00:00',end='2019-03-19 00:19:50')\n",
    "yhat1"
   ]
  },
  {
   "cell_type": "code",
   "execution_count": null,
   "metadata": {},
   "outputs": [],
   "source": []
  },
  {
   "cell_type": "code",
   "execution_count": null,
   "metadata": {},
   "outputs": [],
   "source": []
  },
  {
   "cell_type": "code",
   "execution_count": null,
   "metadata": {},
   "outputs": [],
   "source": []
  },
  {
   "cell_type": "code",
   "execution_count": null,
   "metadata": {},
   "outputs": [],
   "source": []
  },
  {
   "cell_type": "code",
   "execution_count": null,
   "metadata": {},
   "outputs": [],
   "source": []
  },
  {
   "cell_type": "code",
   "execution_count": 5,
   "metadata": {},
   "outputs": [],
   "source": [
    "y_pred = data['feature']"
   ]
  },
  {
   "cell_type": "code",
   "execution_count": 6,
   "metadata": {},
   "outputs": [
    {
     "name": "stdout",
     "output_type": "stream",
     "text": [
      "93.3890575029114\n"
     ]
    }
   ],
   "source": [
    "# here we are getting Rmse 93 that is not good we have to try something else means some other model\n",
    "from sklearn.metrics import mean_squared_error\n",
    "from math import sqrt\n",
    "rmse = sqrt(mean_squared_error(y_pred, yhat))\n",
    "print(rmse)"
   ]
  },
  {
   "cell_type": "code",
   "execution_count": null,
   "metadata": {},
   "outputs": [],
   "source": []
  }
 ],
 "metadata": {
  "kernelspec": {
   "display_name": "Python 3",
   "language": "python",
   "name": "python3"
  },
  "language_info": {
   "codemirror_mode": {
    "name": "ipython",
    "version": 3
   },
   "file_extension": ".py",
   "mimetype": "text/x-python",
   "name": "python",
   "nbconvert_exporter": "python",
   "pygments_lexer": "ipython3",
   "version": "3.7.4"
  }
 },
 "nbformat": 4,
 "nbformat_minor": 2
}
