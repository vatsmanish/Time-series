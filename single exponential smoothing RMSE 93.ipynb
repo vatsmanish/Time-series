{
 "cells": [
  {
   "cell_type": "code",
   "execution_count": 1,
   "metadata": {},
   "outputs": [],
   "source": [
    "import os\n",
    "import pandas as pd\n",
    "import matplotlib.pyplot as plt\n",
    "import seaborn as sns\n",
    "# %inline matplotlib\n",
    "os.chdir(r\"C:\\Users\\MANDY\\Desktop\\dataset\")\n",
    "data = pd.read_csv(\"train_csv (1).csv\",index_col=['time'], parse_dates=['time'])\n",
    "data.drop('id', axis = 1, inplace= True)\n",
    "data.index = pd.to_datetime(data.index)\n",
    "df1 = pd.read_csv(\"test_csv (1).csv\",index_col=['time'], parse_dates=['time'])\n",
    "df1.index = pd.to_datetime(df1.index)"
   ]
  },
  {
   "cell_type": "code",
   "execution_count": null,
   "metadata": {},
   "outputs": [],
   "source": [
    "#https://www.analyticsvidhya.com/blog/2018/02/time-series-forecasting-methods/"
   ]
  },
  {
   "cell_type": "code",
   "execution_count": 33,
   "metadata": {},
   "outputs": [
    {
     "name": "stderr",
     "output_type": "stream",
     "text": [
      "C:\\Users\\MANDY\\Anaconda3\\lib\\site-packages\\statsmodels\\tsa\\base\\tsa_model.py:165: ValueWarning: No frequency information was provided, so inferred frequency 10S will be used.\n",
      "  % freq, ValueWarning)\n"
     ]
    },
    {
     "data": {
      "text/plain": [
       "time\n",
       "2019-03-19 00:00:00    237.970000\n",
       "2019-03-19 00:00:10    237.970000\n",
       "2019-03-19 00:00:20    183.958000\n",
       "2019-03-19 00:00:30    155.929600\n",
       "2019-03-19 00:00:40    187.375720\n",
       "                          ...    \n",
       "2019-03-19 00:12:30    210.925570\n",
       "2019-03-19 00:12:40    288.563899\n",
       "2019-03-19 00:12:50    324.031729\n",
       "2019-03-19 00:13:00    265.495211\n",
       "2019-03-19 00:13:10    211.430647\n",
       "Length: 80, dtype: float64"
      ]
     },
     "execution_count": 33,
     "metadata": {},
     "output_type": "execute_result"
    }
   ],
   "source": [
    "#single exponential smoothing\n",
    "from statsmodels.tsa.holtwinters import SimpleExpSmoothing\n",
    "\n",
    "# create class\n",
    "model = SimpleExpSmoothing(data).fit(smoothing_level = 0.3, optimized = False)\n",
    "# fit model\n",
    "model.fittedvalues\n",
    "# model_fit = model.fit()\n",
    "# model_fit.summary()"
   ]
  },
  {
   "cell_type": "code",
   "execution_count": 34,
   "metadata": {},
   "outputs": [],
   "source": [
    "#  copied from here :- http://www.datasciencesmachinelearning.com/2018/12/exponential-smoothing-techniques.htmlhttp://www.datasciencesmachinelearning.com/2018/12/exponential-smoothing-techniques.htmlhttp://www.datasciencesmachinelearning.com/2018/12/exponential-smoothing-techniques.html copied from here :- "
   ]
  },
  {
   "cell_type": "code",
   "execution_count": 35,
   "metadata": {},
   "outputs": [
    {
     "data": {
      "text/plain": [
       "2019-03-19 00:13:20    184.337453\n",
       "Freq: 10S, dtype: float64"
      ]
     },
     "execution_count": 35,
     "metadata": {},
     "output_type": "execute_result"
    }
   ],
   "source": [
    "# make prediction\n",
    "yhat1 = model.forecast()\n",
    "yhat1"
   ]
  },
  {
   "cell_type": "code",
   "execution_count": 36,
   "metadata": {},
   "outputs": [
    {
     "data": {
      "text/plain": [
       "2019-03-19 00:13:20    184.337453\n",
       "2019-03-19 00:13:30    184.337453\n",
       "2019-03-19 00:13:40    184.337453\n",
       "2019-03-19 00:13:50    184.337453\n",
       "2019-03-19 00:14:00    184.337453\n",
       "2019-03-19 00:14:10    184.337453\n",
       "2019-03-19 00:14:20    184.337453\n",
       "2019-03-19 00:14:30    184.337453\n",
       "2019-03-19 00:14:40    184.337453\n",
       "2019-03-19 00:14:50    184.337453\n",
       "2019-03-19 00:15:00    184.337453\n",
       "2019-03-19 00:15:10    184.337453\n",
       "2019-03-19 00:15:20    184.337453\n",
       "2019-03-19 00:15:30    184.337453\n",
       "2019-03-19 00:15:40    184.337453\n",
       "2019-03-19 00:15:50    184.337453\n",
       "2019-03-19 00:16:00    184.337453\n",
       "2019-03-19 00:16:10    184.337453\n",
       "2019-03-19 00:16:20    184.337453\n",
       "2019-03-19 00:16:30    184.337453\n",
       "2019-03-19 00:16:40    184.337453\n",
       "2019-03-19 00:16:50    184.337453\n",
       "2019-03-19 00:17:00    184.337453\n",
       "2019-03-19 00:17:10    184.337453\n",
       "2019-03-19 00:17:20    184.337453\n",
       "2019-03-19 00:17:30    184.337453\n",
       "2019-03-19 00:17:40    184.337453\n",
       "2019-03-19 00:17:50    184.337453\n",
       "2019-03-19 00:18:00    184.337453\n",
       "2019-03-19 00:18:10    184.337453\n",
       "2019-03-19 00:18:20    184.337453\n",
       "2019-03-19 00:18:30    184.337453\n",
       "2019-03-19 00:18:40    184.337453\n",
       "2019-03-19 00:18:50    184.337453\n",
       "2019-03-19 00:19:00    184.337453\n",
       "2019-03-19 00:19:10    184.337453\n",
       "2019-03-19 00:19:20    184.337453\n",
       "2019-03-19 00:19:30    184.337453\n",
       "2019-03-19 00:19:40    184.337453\n",
       "2019-03-19 00:19:50    184.337453\n",
       "Freq: 10S, dtype: float64"
      ]
     },
     "execution_count": 36,
     "metadata": {},
     "output_type": "execute_result"
    }
   ],
   "source": [
    "# make prediction\n",
    "yhat1 = model.forecast(40)\n",
    "yhat1"
   ]
  },
  {
   "cell_type": "code",
   "execution_count": 12,
   "metadata": {},
   "outputs": [
    {
     "ename": "NameError",
     "evalue": "name 'model_fit' is not defined",
     "output_type": "error",
     "traceback": [
      "\u001b[1;31m---------------------------------------------------------------------------\u001b[0m",
      "\u001b[1;31mNameError\u001b[0m                                 Traceback (most recent call last)",
      "\u001b[1;32m<ipython-input-12-070d1decf376>\u001b[0m in \u001b[0;36m<module>\u001b[1;34m\u001b[0m\n\u001b[0;32m      1\u001b[0m \u001b[1;31m# make prediction\u001b[0m\u001b[1;33m\u001b[0m\u001b[1;33m\u001b[0m\u001b[1;33m\u001b[0m\u001b[0m\n\u001b[1;32m----> 2\u001b[1;33m \u001b[0myhat1\u001b[0m \u001b[1;33m=\u001b[0m \u001b[0mmodel_fit\u001b[0m\u001b[1;33m.\u001b[0m\u001b[0mpredict\u001b[0m\u001b[1;33m(\u001b[0m\u001b[0mstart\u001b[0m \u001b[1;33m=\u001b[0m \u001b[1;34m'2019-03-19 00:00:00'\u001b[0m\u001b[1;33m,\u001b[0m\u001b[0mend\u001b[0m\u001b[1;33m=\u001b[0m\u001b[1;34m'2019-03-19 00:13:10'\u001b[0m\u001b[1;33m)\u001b[0m\u001b[1;33m\u001b[0m\u001b[1;33m\u001b[0m\u001b[0m\n\u001b[0m\u001b[0;32m      3\u001b[0m \u001b[0myhat1\u001b[0m\u001b[1;33m\u001b[0m\u001b[1;33m\u001b[0m\u001b[0m\n",
      "\u001b[1;31mNameError\u001b[0m: name 'model_fit' is not defined"
     ]
    }
   ],
   "source": [
    "# make prediction\n",
    "yhat1 = model_fit.predict(start = '2019-03-19 00:00:00',end='2019-03-19 00:13:10')\n",
    "yhat1"
   ]
  },
  {
   "cell_type": "code",
   "execution_count": 26,
   "metadata": {},
   "outputs": [
    {
     "data": {
      "text/plain": [
       "80"
      ]
     },
     "execution_count": 26,
     "metadata": {},
     "output_type": "execute_result"
    }
   ],
   "source": [
    "y_pred = data['feature']\n",
    "len(y_pred)"
   ]
  },
  {
   "cell_type": "code",
   "execution_count": 8,
   "metadata": {},
   "outputs": [
    {
     "ename": "NameError",
     "evalue": "name 'model_fit' is not defined",
     "output_type": "error",
     "traceback": [
      "\u001b[1;31m---------------------------------------------------------------------------\u001b[0m",
      "\u001b[1;31mNameError\u001b[0m                                 Traceback (most recent call last)",
      "\u001b[1;32m<ipython-input-8-eef8e68c405d>\u001b[0m in \u001b[0;36m<module>\u001b[1;34m\u001b[0m\n\u001b[1;32m----> 1\u001b[1;33m \u001b[0myhat\u001b[0m \u001b[1;33m=\u001b[0m \u001b[0mmodel_fit\u001b[0m\u001b[1;33m.\u001b[0m\u001b[0mpredict\u001b[0m\u001b[1;33m(\u001b[0m\u001b[0mstart\u001b[0m \u001b[1;33m=\u001b[0m \u001b[1;34m'2019-03-19 00:00:00'\u001b[0m\u001b[1;33m,\u001b[0m\u001b[0mend\u001b[0m\u001b[1;33m=\u001b[0m\u001b[1;34m'2019-03-19 00:19:50'\u001b[0m\u001b[1;33m)\u001b[0m\u001b[1;33m\u001b[0m\u001b[1;33m\u001b[0m\u001b[0m\n\u001b[0m\u001b[0;32m      2\u001b[0m \u001b[0myhat\u001b[0m\u001b[1;33m\u001b[0m\u001b[1;33m\u001b[0m\u001b[0m\n",
      "\u001b[1;31mNameError\u001b[0m: name 'model_fit' is not defined"
     ]
    }
   ],
   "source": [
    "yhat = model_fit.predict(start = '2019-03-19 00:00:00',end='2019-03-19 00:19:50')\n",
    "yhat"
   ]
  },
  {
   "cell_type": "code",
   "execution_count": 32,
   "metadata": {},
   "outputs": [
    {
     "data": {
      "text/plain": [
       "pandas.core.series.Series"
      ]
     },
     "execution_count": 32,
     "metadata": {},
     "output_type": "execute_result"
    }
   ],
   "source": [
    "type(yhat1)"
   ]
  },
  {
   "cell_type": "code",
   "execution_count": 27,
   "metadata": {},
   "outputs": [
    {
     "ename": "ValueError",
     "evalue": "Found input variables with inconsistent numbers of samples: [80, 40]",
     "output_type": "error",
     "traceback": [
      "\u001b[1;31m---------------------------------------------------------------------------\u001b[0m",
      "\u001b[1;31mValueError\u001b[0m                                Traceback (most recent call last)",
      "\u001b[1;32m<ipython-input-27-4eaf1ac2c744>\u001b[0m in \u001b[0;36m<module>\u001b[1;34m\u001b[0m\n\u001b[0;32m      2\u001b[0m \u001b[1;32mfrom\u001b[0m \u001b[0msklearn\u001b[0m\u001b[1;33m.\u001b[0m\u001b[0mmetrics\u001b[0m \u001b[1;32mimport\u001b[0m \u001b[0mmean_squared_error\u001b[0m\u001b[1;33m\u001b[0m\u001b[1;33m\u001b[0m\u001b[0m\n\u001b[0;32m      3\u001b[0m \u001b[1;32mfrom\u001b[0m \u001b[0mmath\u001b[0m \u001b[1;32mimport\u001b[0m \u001b[0msqrt\u001b[0m\u001b[1;33m\u001b[0m\u001b[1;33m\u001b[0m\u001b[0m\n\u001b[1;32m----> 4\u001b[1;33m \u001b[0mrmse\u001b[0m \u001b[1;33m=\u001b[0m \u001b[0msqrt\u001b[0m\u001b[1;33m(\u001b[0m\u001b[0mmean_squared_error\u001b[0m\u001b[1;33m(\u001b[0m\u001b[0my_pred\u001b[0m\u001b[1;33m,\u001b[0m \u001b[0myhat1\u001b[0m\u001b[1;33m)\u001b[0m\u001b[1;33m)\u001b[0m\u001b[1;33m\u001b[0m\u001b[1;33m\u001b[0m\u001b[0m\n\u001b[0m\u001b[0;32m      5\u001b[0m \u001b[0mprint\u001b[0m\u001b[1;33m(\u001b[0m\u001b[0mrmse\u001b[0m\u001b[1;33m)\u001b[0m\u001b[1;33m\u001b[0m\u001b[1;33m\u001b[0m\u001b[0m\n",
      "\u001b[1;32m~\\Anaconda3\\lib\\site-packages\\sklearn\\metrics\\_regression.py\u001b[0m in \u001b[0;36mmean_squared_error\u001b[1;34m(y_true, y_pred, sample_weight, multioutput, squared)\u001b[0m\n\u001b[0;32m    250\u001b[0m     \"\"\"\n\u001b[0;32m    251\u001b[0m     y_type, y_true, y_pred, multioutput = _check_reg_targets(\n\u001b[1;32m--> 252\u001b[1;33m         y_true, y_pred, multioutput)\n\u001b[0m\u001b[0;32m    253\u001b[0m     \u001b[0mcheck_consistent_length\u001b[0m\u001b[1;33m(\u001b[0m\u001b[0my_true\u001b[0m\u001b[1;33m,\u001b[0m \u001b[0my_pred\u001b[0m\u001b[1;33m,\u001b[0m \u001b[0msample_weight\u001b[0m\u001b[1;33m)\u001b[0m\u001b[1;33m\u001b[0m\u001b[1;33m\u001b[0m\u001b[0m\n\u001b[0;32m    254\u001b[0m     output_errors = np.average((y_true - y_pred) ** 2, axis=0,\n",
      "\u001b[1;32m~\\Anaconda3\\lib\\site-packages\\sklearn\\metrics\\_regression.py\u001b[0m in \u001b[0;36m_check_reg_targets\u001b[1;34m(y_true, y_pred, multioutput, dtype)\u001b[0m\n\u001b[0;32m     82\u001b[0m \u001b[1;33m\u001b[0m\u001b[0m\n\u001b[0;32m     83\u001b[0m     \"\"\"\n\u001b[1;32m---> 84\u001b[1;33m     \u001b[0mcheck_consistent_length\u001b[0m\u001b[1;33m(\u001b[0m\u001b[0my_true\u001b[0m\u001b[1;33m,\u001b[0m \u001b[0my_pred\u001b[0m\u001b[1;33m)\u001b[0m\u001b[1;33m\u001b[0m\u001b[1;33m\u001b[0m\u001b[0m\n\u001b[0m\u001b[0;32m     85\u001b[0m     \u001b[0my_true\u001b[0m \u001b[1;33m=\u001b[0m \u001b[0mcheck_array\u001b[0m\u001b[1;33m(\u001b[0m\u001b[0my_true\u001b[0m\u001b[1;33m,\u001b[0m \u001b[0mensure_2d\u001b[0m\u001b[1;33m=\u001b[0m\u001b[1;32mFalse\u001b[0m\u001b[1;33m,\u001b[0m \u001b[0mdtype\u001b[0m\u001b[1;33m=\u001b[0m\u001b[0mdtype\u001b[0m\u001b[1;33m)\u001b[0m\u001b[1;33m\u001b[0m\u001b[1;33m\u001b[0m\u001b[0m\n\u001b[0;32m     86\u001b[0m     \u001b[0my_pred\u001b[0m \u001b[1;33m=\u001b[0m \u001b[0mcheck_array\u001b[0m\u001b[1;33m(\u001b[0m\u001b[0my_pred\u001b[0m\u001b[1;33m,\u001b[0m \u001b[0mensure_2d\u001b[0m\u001b[1;33m=\u001b[0m\u001b[1;32mFalse\u001b[0m\u001b[1;33m,\u001b[0m \u001b[0mdtype\u001b[0m\u001b[1;33m=\u001b[0m\u001b[0mdtype\u001b[0m\u001b[1;33m)\u001b[0m\u001b[1;33m\u001b[0m\u001b[1;33m\u001b[0m\u001b[0m\n",
      "\u001b[1;32m~\\Anaconda3\\lib\\site-packages\\sklearn\\utils\\validation.py\u001b[0m in \u001b[0;36mcheck_consistent_length\u001b[1;34m(*arrays)\u001b[0m\n\u001b[0;32m    210\u001b[0m     \u001b[1;32mif\u001b[0m \u001b[0mlen\u001b[0m\u001b[1;33m(\u001b[0m\u001b[0muniques\u001b[0m\u001b[1;33m)\u001b[0m \u001b[1;33m>\u001b[0m \u001b[1;36m1\u001b[0m\u001b[1;33m:\u001b[0m\u001b[1;33m\u001b[0m\u001b[1;33m\u001b[0m\u001b[0m\n\u001b[0;32m    211\u001b[0m         raise ValueError(\"Found input variables with inconsistent numbers of\"\n\u001b[1;32m--> 212\u001b[1;33m                          \" samples: %r\" % [int(l) for l in lengths])\n\u001b[0m\u001b[0;32m    213\u001b[0m \u001b[1;33m\u001b[0m\u001b[0m\n\u001b[0;32m    214\u001b[0m \u001b[1;33m\u001b[0m\u001b[0m\n",
      "\u001b[1;31mValueError\u001b[0m: Found input variables with inconsistent numbers of samples: [80, 40]"
     ]
    }
   ],
   "source": [
    "# here we are getting Rmse 93 that is not good we have to try something else means some other model\n",
    "from sklearn.metrics import mean_squared_error\n",
    "from math import sqrt\n",
    "rmse = sqrt(mean_squared_error(y_pred, yhat1))\n",
    "print(rmse)"
   ]
  },
  {
   "cell_type": "code",
   "execution_count": 19,
   "metadata": {},
   "outputs": [
    {
     "data": {
      "text/plain": [
       "range(0, 40)"
      ]
     },
     "execution_count": 19,
     "metadata": {},
     "output_type": "execute_result"
    }
   ],
   "source": [
    "# now save into excel file foe submission\n",
    "index= range (0,40)\n",
    "index"
   ]
  },
  {
   "cell_type": "code",
   "execution_count": 28,
   "metadata": {},
   "outputs": [],
   "source": [
    "out = yhat1['2019-03-19 00:13:20':]\n",
    "out_df = pd.DataFrame(data = out)\n",
    "out_df.to_csv('singleExpSmoothing.csv')"
   ]
  },
  {
   "cell_type": "code",
   "execution_count": 29,
   "metadata": {},
   "outputs": [
    {
     "data": {
      "text/html": [
       "<div>\n",
       "<style scoped>\n",
       "    .dataframe tbody tr th:only-of-type {\n",
       "        vertical-align: middle;\n",
       "    }\n",
       "\n",
       "    .dataframe tbody tr th {\n",
       "        vertical-align: top;\n",
       "    }\n",
       "\n",
       "    .dataframe thead th {\n",
       "        text-align: right;\n",
       "    }\n",
       "</style>\n",
       "<table border=\"1\" class=\"dataframe\">\n",
       "  <thead>\n",
       "    <tr style=\"text-align: right;\">\n",
       "      <th></th>\n",
       "      <th>0</th>\n",
       "    </tr>\n",
       "  </thead>\n",
       "  <tbody>\n",
       "    <tr>\n",
       "      <td>2019-03-19 00:13:20</td>\n",
       "      <td>196.476317</td>\n",
       "    </tr>\n",
       "    <tr>\n",
       "      <td>2019-03-19 00:13:30</td>\n",
       "      <td>196.476317</td>\n",
       "    </tr>\n",
       "    <tr>\n",
       "      <td>2019-03-19 00:13:40</td>\n",
       "      <td>196.476317</td>\n",
       "    </tr>\n",
       "    <tr>\n",
       "      <td>2019-03-19 00:13:50</td>\n",
       "      <td>196.476317</td>\n",
       "    </tr>\n",
       "    <tr>\n",
       "      <td>2019-03-19 00:14:00</td>\n",
       "      <td>196.476317</td>\n",
       "    </tr>\n",
       "    <tr>\n",
       "      <td>2019-03-19 00:14:10</td>\n",
       "      <td>196.476317</td>\n",
       "    </tr>\n",
       "    <tr>\n",
       "      <td>2019-03-19 00:14:20</td>\n",
       "      <td>196.476317</td>\n",
       "    </tr>\n",
       "    <tr>\n",
       "      <td>2019-03-19 00:14:30</td>\n",
       "      <td>196.476317</td>\n",
       "    </tr>\n",
       "    <tr>\n",
       "      <td>2019-03-19 00:14:40</td>\n",
       "      <td>196.476317</td>\n",
       "    </tr>\n",
       "    <tr>\n",
       "      <td>2019-03-19 00:14:50</td>\n",
       "      <td>196.476317</td>\n",
       "    </tr>\n",
       "    <tr>\n",
       "      <td>2019-03-19 00:15:00</td>\n",
       "      <td>196.476317</td>\n",
       "    </tr>\n",
       "    <tr>\n",
       "      <td>2019-03-19 00:15:10</td>\n",
       "      <td>196.476317</td>\n",
       "    </tr>\n",
       "    <tr>\n",
       "      <td>2019-03-19 00:15:20</td>\n",
       "      <td>196.476317</td>\n",
       "    </tr>\n",
       "    <tr>\n",
       "      <td>2019-03-19 00:15:30</td>\n",
       "      <td>196.476317</td>\n",
       "    </tr>\n",
       "    <tr>\n",
       "      <td>2019-03-19 00:15:40</td>\n",
       "      <td>196.476317</td>\n",
       "    </tr>\n",
       "    <tr>\n",
       "      <td>2019-03-19 00:15:50</td>\n",
       "      <td>196.476317</td>\n",
       "    </tr>\n",
       "    <tr>\n",
       "      <td>2019-03-19 00:16:00</td>\n",
       "      <td>196.476317</td>\n",
       "    </tr>\n",
       "    <tr>\n",
       "      <td>2019-03-19 00:16:10</td>\n",
       "      <td>196.476317</td>\n",
       "    </tr>\n",
       "    <tr>\n",
       "      <td>2019-03-19 00:16:20</td>\n",
       "      <td>196.476317</td>\n",
       "    </tr>\n",
       "    <tr>\n",
       "      <td>2019-03-19 00:16:30</td>\n",
       "      <td>196.476317</td>\n",
       "    </tr>\n",
       "    <tr>\n",
       "      <td>2019-03-19 00:16:40</td>\n",
       "      <td>196.476317</td>\n",
       "    </tr>\n",
       "    <tr>\n",
       "      <td>2019-03-19 00:16:50</td>\n",
       "      <td>196.476317</td>\n",
       "    </tr>\n",
       "    <tr>\n",
       "      <td>2019-03-19 00:17:00</td>\n",
       "      <td>196.476317</td>\n",
       "    </tr>\n",
       "    <tr>\n",
       "      <td>2019-03-19 00:17:10</td>\n",
       "      <td>196.476317</td>\n",
       "    </tr>\n",
       "    <tr>\n",
       "      <td>2019-03-19 00:17:20</td>\n",
       "      <td>196.476317</td>\n",
       "    </tr>\n",
       "    <tr>\n",
       "      <td>2019-03-19 00:17:30</td>\n",
       "      <td>196.476317</td>\n",
       "    </tr>\n",
       "    <tr>\n",
       "      <td>2019-03-19 00:17:40</td>\n",
       "      <td>196.476317</td>\n",
       "    </tr>\n",
       "    <tr>\n",
       "      <td>2019-03-19 00:17:50</td>\n",
       "      <td>196.476317</td>\n",
       "    </tr>\n",
       "    <tr>\n",
       "      <td>2019-03-19 00:18:00</td>\n",
       "      <td>196.476317</td>\n",
       "    </tr>\n",
       "    <tr>\n",
       "      <td>2019-03-19 00:18:10</td>\n",
       "      <td>196.476317</td>\n",
       "    </tr>\n",
       "    <tr>\n",
       "      <td>2019-03-19 00:18:20</td>\n",
       "      <td>196.476317</td>\n",
       "    </tr>\n",
       "    <tr>\n",
       "      <td>2019-03-19 00:18:30</td>\n",
       "      <td>196.476317</td>\n",
       "    </tr>\n",
       "    <tr>\n",
       "      <td>2019-03-19 00:18:40</td>\n",
       "      <td>196.476317</td>\n",
       "    </tr>\n",
       "    <tr>\n",
       "      <td>2019-03-19 00:18:50</td>\n",
       "      <td>196.476317</td>\n",
       "    </tr>\n",
       "    <tr>\n",
       "      <td>2019-03-19 00:19:00</td>\n",
       "      <td>196.476317</td>\n",
       "    </tr>\n",
       "    <tr>\n",
       "      <td>2019-03-19 00:19:10</td>\n",
       "      <td>196.476317</td>\n",
       "    </tr>\n",
       "    <tr>\n",
       "      <td>2019-03-19 00:19:20</td>\n",
       "      <td>196.476317</td>\n",
       "    </tr>\n",
       "    <tr>\n",
       "      <td>2019-03-19 00:19:30</td>\n",
       "      <td>196.476317</td>\n",
       "    </tr>\n",
       "    <tr>\n",
       "      <td>2019-03-19 00:19:40</td>\n",
       "      <td>196.476317</td>\n",
       "    </tr>\n",
       "    <tr>\n",
       "      <td>2019-03-19 00:19:50</td>\n",
       "      <td>196.476317</td>\n",
       "    </tr>\n",
       "  </tbody>\n",
       "</table>\n",
       "</div>"
      ],
      "text/plain": [
       "                              0\n",
       "2019-03-19 00:13:20  196.476317\n",
       "2019-03-19 00:13:30  196.476317\n",
       "2019-03-19 00:13:40  196.476317\n",
       "2019-03-19 00:13:50  196.476317\n",
       "2019-03-19 00:14:00  196.476317\n",
       "2019-03-19 00:14:10  196.476317\n",
       "2019-03-19 00:14:20  196.476317\n",
       "2019-03-19 00:14:30  196.476317\n",
       "2019-03-19 00:14:40  196.476317\n",
       "2019-03-19 00:14:50  196.476317\n",
       "2019-03-19 00:15:00  196.476317\n",
       "2019-03-19 00:15:10  196.476317\n",
       "2019-03-19 00:15:20  196.476317\n",
       "2019-03-19 00:15:30  196.476317\n",
       "2019-03-19 00:15:40  196.476317\n",
       "2019-03-19 00:15:50  196.476317\n",
       "2019-03-19 00:16:00  196.476317\n",
       "2019-03-19 00:16:10  196.476317\n",
       "2019-03-19 00:16:20  196.476317\n",
       "2019-03-19 00:16:30  196.476317\n",
       "2019-03-19 00:16:40  196.476317\n",
       "2019-03-19 00:16:50  196.476317\n",
       "2019-03-19 00:17:00  196.476317\n",
       "2019-03-19 00:17:10  196.476317\n",
       "2019-03-19 00:17:20  196.476317\n",
       "2019-03-19 00:17:30  196.476317\n",
       "2019-03-19 00:17:40  196.476317\n",
       "2019-03-19 00:17:50  196.476317\n",
       "2019-03-19 00:18:00  196.476317\n",
       "2019-03-19 00:18:10  196.476317\n",
       "2019-03-19 00:18:20  196.476317\n",
       "2019-03-19 00:18:30  196.476317\n",
       "2019-03-19 00:18:40  196.476317\n",
       "2019-03-19 00:18:50  196.476317\n",
       "2019-03-19 00:19:00  196.476317\n",
       "2019-03-19 00:19:10  196.476317\n",
       "2019-03-19 00:19:20  196.476317\n",
       "2019-03-19 00:19:30  196.476317\n",
       "2019-03-19 00:19:40  196.476317\n",
       "2019-03-19 00:19:50  196.476317"
      ]
     },
     "execution_count": 29,
     "metadata": {},
     "output_type": "execute_result"
    }
   ],
   "source": [
    "out_df"
   ]
  },
  {
   "cell_type": "code",
   "execution_count": 18,
   "metadata": {},
   "outputs": [
    {
     "data": {
      "text/plain": [
       "nan"
      ]
     },
     "execution_count": 18,
     "metadata": {},
     "output_type": "execute_result"
    }
   ],
   "source": [
    "# calculate RMSE manually\n",
    "## RMSE without code\n",
    "#Error = actual - predicted\n",
    "import numpy as np\n",
    "e = y_pred - yhat1\n",
    "np.mean(e)\n",
    "#Error^2\n",
    "import math\n",
    "e**2\n",
    "\n",
    "#RMSE = sqrt(sum(e**2)/(ntest-1))\n",
    "math.sqrt(sum(e**2)/(len(y_pred)-2))"
   ]
  },
  {
   "cell_type": "code",
   "execution_count": null,
   "metadata": {},
   "outputs": [],
   "source": []
  }
 ],
 "metadata": {
  "kernelspec": {
   "display_name": "Python 3",
   "language": "python",
   "name": "python3"
  },
  "language_info": {
   "codemirror_mode": {
    "name": "ipython",
    "version": 3
   },
   "file_extension": ".py",
   "mimetype": "text/x-python",
   "name": "python",
   "nbconvert_exporter": "python",
   "pygments_lexer": "ipython3",
   "version": "3.7.4"
  }
 },
 "nbformat": 4,
 "nbformat_minor": 2
}
