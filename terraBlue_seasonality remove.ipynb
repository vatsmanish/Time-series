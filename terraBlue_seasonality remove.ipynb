{
 "cells": [
  {
   "cell_type": "code",
   "execution_count": 1,
   "metadata": {},
   "outputs": [],
   "source": [
    "import os\n",
    "import pandas as pd\n",
    "import matplotlib.pyplot as plt\n",
    "import seaborn as sns\n",
    "# %inline matplotlib\n",
    "os.chdir(r\"C:\\Users\\MANDY\\Desktop\\dataset\")"
   ]
  },
  {
   "cell_type": "code",
   "execution_count": 2,
   "metadata": {},
   "outputs": [],
   "source": [
    "df = pd.read_csv(\"train_csv (1).csv\",index_col=['time'], parse_dates=['time'])"
   ]
  },
  {
   "cell_type": "code",
   "execution_count": 3,
   "metadata": {},
   "outputs": [],
   "source": [
    "df.drop('id', axis = 1, inplace= True)"
   ]
  },
  {
   "cell_type": "code",
   "execution_count": 4,
   "metadata": {},
   "outputs": [],
   "source": [
    "df.index = pd.to_datetime(df.index)"
   ]
  },
  {
   "cell_type": "code",
   "execution_count": 5,
   "metadata": {},
   "outputs": [
    {
     "data": {
      "text/plain": [
       "(80, 1)"
      ]
     },
     "execution_count": 5,
     "metadata": {},
     "output_type": "execute_result"
    }
   ],
   "source": [
    "df.shape"
   ]
  },
  {
   "cell_type": "code",
   "execution_count": 5,
   "metadata": {},
   "outputs": [
    {
     "name": "stdout",
     "output_type": "stream",
     "text": [
      "Results of Dickey-Fuller Test:\n",
      "Test Statistic                -5.945866e+00\n",
      "p-value                        2.205049e-07\n",
      "#Lags Used                     0.000000e+00\n",
      "Number of Observations Used    7.900000e+01\n",
      "Critical Value (1%)           -3.515977e+00\n",
      "Critical Value (5%)           -2.898886e+00\n",
      "Critical Value (10%)          -2.586694e+00\n",
      "dtype: float64\n"
     ]
    }
   ],
   "source": [
    "#define function for ADF test\n",
    "from statsmodels.tsa.stattools import adfuller\n",
    "def adf_test(timeseries):\n",
    "    #Perform Dickey-Fuller test:\n",
    "    print ('Results of Dickey-Fuller Test:')\n",
    "    dftest = adfuller(timeseries, autolag='AIC')\n",
    "    dfoutput = pd.Series(dftest[0:4], index=['Test Statistic','p-value','#Lags Used','Number of Observations Used'])\n",
    "    for key,value in dftest[4].items():\n",
    "       dfoutput['Critical Value (%s)'%key] = value\n",
    "    print (dfoutput)\n",
    "\n",
    "#apply adf test on the series\n",
    "adf_test(df['feature'])"
   ]
  },
  {
   "cell_type": "code",
   "execution_count": 9,
   "metadata": {},
   "outputs": [],
   "source": [
    "## source = ADF (Augmented Dickey Fuller) Test\n",
    "##https://www.analyticsvidhya.com/blog/2018/09/non-stationary-time-series-python/"
   ]
  },
  {
   "cell_type": "code",
   "execution_count": 6,
   "metadata": {},
   "outputs": [
    {
     "name": "stdout",
     "output_type": "stream",
     "text": [
      "Results of KPSS Test:\n",
      "Test Statistic            0.282677\n",
      "p-value                   0.100000\n",
      "Lags Used                12.000000\n",
      "Critical Value (10%)      0.347000\n",
      "Critical Value (5%)       0.463000\n",
      "Critical Value (2.5%)     0.574000\n",
      "Critical Value (1%)       0.739000\n",
      "dtype: float64\n"
     ]
    },
    {
     "name": "stderr",
     "output_type": "stream",
     "text": [
      "C:\\Users\\MANDY\\Anaconda3\\lib\\site-packages\\statsmodels\\tsa\\stattools.py:1685: FutureWarning: The behavior of using lags=None will change in the next release. Currently lags=None is the same as lags='legacy', and so a sample-size lag length is used. After the next release, the default will change to be the same as lags='auto' which uses an automatic lag length selection method. To silence this warning, either use 'auto' or 'legacy'\n",
      "  warn(msg, FutureWarning)\n",
      "C:\\Users\\MANDY\\Anaconda3\\lib\\site-packages\\statsmodels\\tsa\\stattools.py:1710: InterpolationWarning: p-value is greater than the indicated p-value\n",
      "  warn(\"p-value is greater than the indicated p-value\", InterpolationWarning)\n"
     ]
    }
   ],
   "source": [
    "#define function for kpss test\n",
    "from statsmodels.tsa.stattools import kpss\n",
    "#define KPSS\n",
    "def kpss_test(timeseries):\n",
    "    print ('Results of KPSS Test:')\n",
    "    kpsstest = kpss(timeseries, regression='c')\n",
    "    kpss_output = pd.Series(kpsstest[0:3], index=['Test Statistic','p-value','Lags Used'])\n",
    "    for key,value in kpsstest[3].items():\n",
    "        kpss_output['Critical Value (%s)'%key] = value\n",
    "    print(kpss_output)\n",
    "kpss_test(df['feature'])"
   ]
  },
  {
   "cell_type": "code",
   "execution_count": 7,
   "metadata": {},
   "outputs": [
    {
     "data": {
      "image/png": "[encoded data removed]",
      "text/plain": [
       "<Figure size 432x288 with 1 Axes>"
      ]
     },
     "metadata": {
      "needs_background": "light"
     },
     "output_type": "display_data"
    }
   ],
   "source": [
    "# Applying differencing on our series and plotting the results:\n",
    "df['feature_diff'] = df['feature'] - df['feature'].shift(1)\n",
    "df['feature_diff'].dropna().plot()\n",
    "plt.show()"
   ]
  },
  {
   "cell_type": "code",
   "execution_count": 11,
   "metadata": {},
   "outputs": [
    {
     "data": {
      "text/html": [
       "<div>\n",
       "<style scoped>\n",
       "    .dataframe tbody tr th:only-of-type {\n",
       "        vertical-align: middle;\n",
       "    }\n",
       "\n",
       "    .dataframe tbody tr th {\n",
       "        vertical-align: top;\n",
       "    }\n",
       "\n",
       "    .dataframe thead th {\n",
       "        text-align: right;\n",
       "    }\n",
       "</style>\n",
       "<table border=\"1\" class=\"dataframe\">\n",
       "  <thead>\n",
       "    <tr style=\"text-align: right;\">\n",
       "      <th></th>\n",
       "      <th>feature</th>\n",
       "      <th>feature_diff</th>\n",
       "    </tr>\n",
       "    <tr>\n",
       "      <th>time</th>\n",
       "      <th></th>\n",
       "      <th></th>\n",
       "    </tr>\n",
       "  </thead>\n",
       "  <tbody>\n",
       "    <tr>\n",
       "      <td>2019-03-19 00:00:00</td>\n",
       "      <td>NaN</td>\n",
       "      <td>NaN</td>\n",
       "    </tr>\n",
       "    <tr>\n",
       "      <td>2019-03-19 00:00:10</td>\n",
       "      <td>NaN</td>\n",
       "      <td>-180.04</td>\n",
       "    </tr>\n",
       "    <tr>\n",
       "      <td>2019-03-19 00:00:20</td>\n",
       "      <td>NaN</td>\n",
       "      <td>32.60</td>\n",
       "    </tr>\n",
       "    <tr>\n",
       "      <td>2019-03-19 00:00:30</td>\n",
       "      <td>22.78</td>\n",
       "      <td>170.22</td>\n",
       "    </tr>\n",
       "    <tr>\n",
       "      <td>2019-03-19 00:00:40</td>\n",
       "      <td>-8.23</td>\n",
       "      <td>-211.05</td>\n",
       "    </tr>\n",
       "    <tr>\n",
       "      <td>2019-03-19 00:00:50</td>\n",
       "      <td>211.55</td>\n",
       "      <td>252.38</td>\n",
       "    </tr>\n",
       "    <tr>\n",
       "      <td>2019-03-19 00:01:00</td>\n",
       "      <td>-108.50</td>\n",
       "      <td>-149.83</td>\n",
       "    </tr>\n",
       "    <tr>\n",
       "      <td>2019-03-19 00:01:10</td>\n",
       "      <td>-8.51</td>\n",
       "      <td>-111.06</td>\n",
       "    </tr>\n",
       "    <tr>\n",
       "      <td>2019-03-19 00:01:20</td>\n",
       "      <td>-267.47</td>\n",
       "      <td>-6.58</td>\n",
       "    </tr>\n",
       "    <tr>\n",
       "      <td>2019-03-19 00:01:30</td>\n",
       "      <td>53.62</td>\n",
       "      <td>171.26</td>\n",
       "    </tr>\n",
       "  </tbody>\n",
       "</table>\n",
       "</div>"
      ],
      "text/plain": [
       "                     feature  feature_diff\n",
       "time                                      \n",
       "2019-03-19 00:00:00      NaN           NaN\n",
       "2019-03-19 00:00:10      NaN       -180.04\n",
       "2019-03-19 00:00:20      NaN         32.60\n",
       "2019-03-19 00:00:30    22.78        170.22\n",
       "2019-03-19 00:00:40    -8.23       -211.05\n",
       "2019-03-19 00:00:50   211.55        252.38\n",
       "2019-03-19 00:01:00  -108.50       -149.83\n",
       "2019-03-19 00:01:10    -8.51       -111.06\n",
       "2019-03-19 00:01:20  -267.47         -6.58\n",
       "2019-03-19 00:01:30    53.62        171.26"
      ]
     },
     "execution_count": 11,
     "metadata": {},
     "output_type": "execute_result"
    }
   ],
   "source": [
    "df.head(10)"
   ]
  },
  {
   "cell_type": "code",
   "execution_count": 9,
   "metadata": {},
   "outputs": [],
   "source": [
    "n=3\n",
    "df['feature'] = df['feature'] - df['feature'].shift(n)"
   ]
  },
  {
   "cell_type": "code",
   "execution_count": 22,
   "metadata": {},
   "outputs": [
    {
     "name": "stderr",
     "output_type": "stream",
     "text": [
      "C:\\Users\\MANDY\\Anaconda3\\lib\\site-packages\\pandas\\core\\series.py:853: RuntimeWarning: invalid value encountered in log\n",
      "  result = getattr(ufunc, method)(*inputs, **kwargs)\n"
     ]
    },
    {
     "data": {
      "text/plain": [
       "<matplotlib.axes._subplots.AxesSubplot at 0x234e5a12b88>"
      ]
     },
     "execution_count": 22,
     "metadata": {},
     "output_type": "execute_result"
    },
    {
     "data": {
      "image/png": "[encoded data removed]",
      "text/plain": [
       "<Figure size 432x288 with 1 Axes>"
      ]
     },
     "metadata": {
      "needs_background": "light"
     },
     "output_type": "display_data"
    }
   ],
   "source": [
    "import numpy as np\n",
    "df['feature_log'] = np.log(df['feature'])\n",
    "df['feature_log_diff'] = df['feature_log'] - df['feature_log'].shift(1)\n",
    "df['feature_log_diff'].dropna().plot()"
   ]
  },
  {
   "cell_type": "code",
   "execution_count": 23,
   "metadata": {},
   "outputs": [
    {
     "data": {
      "text/html": [
       "<div>\n",
       "<style scoped>\n",
       "    .dataframe tbody tr th:only-of-type {\n",
       "        vertical-align: middle;\n",
       "    }\n",
       "\n",
       "    .dataframe tbody tr th {\n",
       "        vertical-align: top;\n",
       "    }\n",
       "\n",
       "    .dataframe thead th {\n",
       "        text-align: right;\n",
       "    }\n",
       "</style>\n",
       "<table border=\"1\" class=\"dataframe\">\n",
       "  <thead>\n",
       "    <tr style=\"text-align: right;\">\n",
       "      <th></th>\n",
       "      <th>feature</th>\n",
       "      <th>feature_diff</th>\n",
       "      <th>feature_log</th>\n",
       "      <th>feature_log_diff</th>\n",
       "    </tr>\n",
       "    <tr>\n",
       "      <th>time</th>\n",
       "      <th></th>\n",
       "      <th></th>\n",
       "      <th></th>\n",
       "      <th></th>\n",
       "    </tr>\n",
       "  </thead>\n",
       "  <tbody>\n",
       "    <tr>\n",
       "      <td>2019-03-19 00:00:00</td>\n",
       "      <td>NaN</td>\n",
       "      <td>NaN</td>\n",
       "      <td>NaN</td>\n",
       "      <td>NaN</td>\n",
       "    </tr>\n",
       "    <tr>\n",
       "      <td>2019-03-19 00:00:10</td>\n",
       "      <td>NaN</td>\n",
       "      <td>-180.04</td>\n",
       "      <td>NaN</td>\n",
       "      <td>NaN</td>\n",
       "    </tr>\n",
       "    <tr>\n",
       "      <td>2019-03-19 00:00:20</td>\n",
       "      <td>NaN</td>\n",
       "      <td>32.60</td>\n",
       "      <td>NaN</td>\n",
       "      <td>NaN</td>\n",
       "    </tr>\n",
       "    <tr>\n",
       "      <td>2019-03-19 00:00:30</td>\n",
       "      <td>22.78</td>\n",
       "      <td>170.22</td>\n",
       "      <td>3.125883</td>\n",
       "      <td>NaN</td>\n",
       "    </tr>\n",
       "    <tr>\n",
       "      <td>2019-03-19 00:00:40</td>\n",
       "      <td>-8.23</td>\n",
       "      <td>-211.05</td>\n",
       "      <td>NaN</td>\n",
       "      <td>NaN</td>\n",
       "    </tr>\n",
       "  </tbody>\n",
       "</table>\n",
       "</div>"
      ],
      "text/plain": [
       "                     feature  feature_diff  feature_log  feature_log_diff\n",
       "time                                                                     \n",
       "2019-03-19 00:00:00      NaN           NaN          NaN               NaN\n",
       "2019-03-19 00:00:10      NaN       -180.04          NaN               NaN\n",
       "2019-03-19 00:00:20      NaN         32.60          NaN               NaN\n",
       "2019-03-19 00:00:30    22.78        170.22     3.125883               NaN\n",
       "2019-03-19 00:00:40    -8.23       -211.05          NaN               NaN"
      ]
     },
     "execution_count": 23,
     "metadata": {},
     "output_type": "execute_result"
    }
   ],
   "source": [
    "df.head()"
   ]
  },
  {
   "cell_type": "code",
   "execution_count": 24,
   "metadata": {},
   "outputs": [
    {
     "data": {
      "text/plain": [
       "time\n",
       "2019-03-19 00:00:00       NaN\n",
       "2019-03-19 00:00:10   -180.04\n",
       "2019-03-19 00:00:20     32.60\n",
       "2019-03-19 00:00:30    170.22\n",
       "2019-03-19 00:00:40   -211.05\n",
       "                        ...  \n",
       "2019-03-19 00:12:30     68.29\n",
       "2019-03-19 00:12:40    -62.93\n",
       "2019-03-19 00:12:50   -277.88\n",
       "2019-03-19 00:13:00    -43.63\n",
       "2019-03-19 00:13:10     35.84\n",
       "Name: feature_diff, Length: 80, dtype: float64"
      ]
     },
     "execution_count": 24,
     "metadata": {},
     "output_type": "execute_result"
    }
   ],
   "source": [
    "df['feature_diff']"
   ]
  },
  {
   "cell_type": "code",
   "execution_count": null,
   "metadata": {},
   "outputs": [],
   "source": []
  }
 ],
 "metadata": {
  "kernelspec": {
   "display_name": "Python 3",
   "language": "python",
   "name": "python3"
  },
  "language_info": {
   "codemirror_mode": {
    "name": "ipython",
    "version": 3
   },
   "file_extension": ".py",
   "mimetype": "text/x-python",
   "name": "python",
   "nbconvert_exporter": "python",
   "pygments_lexer": "ipython3",
   "version": "3.7.4"
  }
 },
 "nbformat": 4,
 "nbformat_minor": 2
}
